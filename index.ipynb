{
  "cells": [
    {
      "cell_type": "raw",
      "metadata": {},
      "source": [
        "---\n",
        "title: Untitled\n",
        "format: html\n",
        "---"
      ],
      "id": "befc5a07"
    },
    {
      "cell_type": "markdown",
      "metadata": {},
      "source": [
        "::: {.callout-important}\n",
        "## TODOs\n",
        "\n",
        "- [ ] https://github.com/Kaggle/kaggle-environments/tree/master\n",
        "- [ ] https://github.com/google-gemini/gemma-cookbook/blob/main/Gemma/Guess_the_word.ipynb\n",
        ":::\n",
        "\n",
        "## Introduction\n",
        "\n",
        "## Environment Tips: Run LLM 20 Questions in a Notebook\n",
        "\n",
        "To test and debug your agent in LLM 20 Questions or any other competition using Kaggle environments, it helps to be able to run the environment in a notebook. Here are some tips and explanations that may be helpful.\n",
        "\n",
        "## Game environment configuration\n",
        "\n",
        "Kaggle environments are created with the `make()` function with the environment name, `llm_20_questions` and some optional defaults, like configuration and info. If you want to run a game just like the competition, just use the defaults.\n"
      ],
      "id": "976b1f99"
    },
    {
      "cell_type": "code",
      "metadata": {},
      "source": [
        "help(make)"
      ],
      "id": "19cd9394",
      "execution_count": null,
      "outputs": []
    },
    {
      "cell_type": "markdown",
      "metadata": {},
      "source": [
        "Help on function make in module  `kaggle_environments.core`:\n",
        "\n",
        "```python\n",
        "# Creates an instance of an Environment.\n",
        "make(environment,\n",
        "     configuration=None,\n",
        "     info=None,\n",
        "     steps=None,\n",
        "     logs=None,\n",
        "     debug=False,\n",
        "     state=None) \n",
        "\n",
        "Args:\n",
        "    environment (str|Environment):\n",
        "    configuration (dict, optional):\n",
        "    info (dict, optional):\n",
        "    steps (list, optional):\n",
        "    debug (bool=False, optional): Render print() statments to stdout\n",
        "    state (optional):\n",
        "\n",
        "Returns:\n",
        "    Environment: Instance of a specific environment.\n",
        "```\n"
      ],
      "id": "433eddda"
    },
    {
      "cell_type": "code",
      "metadata": {},
      "source": [
        "# Additional documentation (especially interfaces) can be found on all public functions:\n",
        "from kaggle_environments import make\n",
        "help(make)\n",
        "env = make(\"tictactoe\")\n",
        "dir(env)\n",
        "#help(env.reset)"
      ],
      "id": "8ab5d899",
      "execution_count": null,
      "outputs": []
    },
    {
      "cell_type": "code",
      "metadata": {},
      "source": [
        "from kaggle_environments import make\n",
        "\n",
        "env = make(\"llm_20_questions\")"
      ],
      "id": "d6e46f30",
      "execution_count": null,
      "outputs": []
    },
    {
      "cell_type": "markdown",
      "metadata": {},
      "source": [
        "---\n",
        "---\n",
        "\n",
        "\n",
        "Create a Simple Agent\n",
        "\n",
        "If you just want to experiment, an agent can be as simple as a Python function. Your agent is a function with two inputs, obs and cfg, and it provides a text response as output.\n",
        "\n",
        "The agent needs to be able to handle three turnTypes (\"ask\", \"guess\" and \"answer\"). The response for answer has to be \"yes\" or \"no\".\n",
        "\n",
        "Here are four simple agents:\n"
      ],
      "id": "de1ca407"
    },
    {
      "cell_type": "code",
      "metadata": {},
      "source": [
        "def simple_agent1(obs, cfg):\n",
        "    # if agent is guesser and turnType is \"ask\"\n",
        "    if obs.turnType == \"ask\": response = \"Is it a duck?\"\n",
        "    elif obs.turnType == \"guess\": response = \"duck\"\n",
        "    elif obs.turnType == \"answer\": response = \"no\"\n",
        "    return response\n",
        "\n",
        "def simple_agent2(obs, cfg):\n",
        "    # if agent is guesser and turnType is \"ask\"\n",
        "    if obs.turnType == \"ask\": response = \"Is it a bird?\"\n",
        "    elif obs.turnType == \"guess\": response = \"bird\"\n",
        "    elif obs.turnType == \"answer\": response = \"no\"\n",
        "    return response\n",
        "\n",
        "def simple_agent3(obs, cfg):\n",
        "    # if agent is guesser and turnType is \"ask\"\n",
        "    if obs.turnType == \"ask\": response = \"Is it a pig?\"\n",
        "    elif obs.turnType == \"guess\": response = \"pig\"\n",
        "    elif obs.turnType == \"answer\": response = \"no\"\n",
        "    return response\n",
        "\n",
        "def simple_agent4(obs, cfg):\n",
        "    # if agent is guesser and turnType is \"ask\"\n",
        "    if obs.turnType == \"ask\": response = \"Is it a cow?\"\n",
        "    elif obs.turnType == \"guess\": response = \"cow\"\n",
        "    elif obs.turnType == \"answer\": response = \"no\"\n",
        "    return response"
      ],
      "id": "fe712bae",
      "execution_count": null,
      "outputs": []
    },
    {
      "cell_type": "markdown",
      "metadata": {},
      "source": [
        "## Running LLM 20 Questions (default)\n",
        "\n",
        "You can then create and run the game in this environment. When you run the game, you must submit a list of four agents:\n",
        "\n",
        "    \"Agent1\" (guesser for Team 1),\n",
        "    \"Agent2\" (answerer for Team 1),\n",
        "    \"Agent3\" (guesser for Team 2),\n",
        "    \"Agent4\" (answerer for Team 2).\n",
        "\n",
        "In the competition, you are randomly paired with a teammate to either be the guesser or the answerer.\n",
        "\n",
        "(When I first started this competition, I mistakenly thought your agent plays both the guesser and answerer role for the team. But you are paired with someone else in the competition. You do well or poorly depending on your ability to cooperate with a random partner.)\n"
      ],
      "id": "3f570ca5"
    },
    {
      "cell_type": "code",
      "metadata": {},
      "source": [
        "%%time\n",
        "game_output = env.run(agents=[simple_agent1, simple_agent2, simple_agent3, simple_agent4])"
      ],
      "id": "1dae9ea4",
      "execution_count": null,
      "outputs": []
    },
    {
      "cell_type": "markdown",
      "metadata": {},
      "source": [
        "The game in this example completes quickly since the simple agents respond immediately. A real game with large LLM's as agents could take a minute for each step, so the total game could take an hour!\n",
        "\n",
        "You can look at the data from each step of the game in game_output.\n",
        "\n",
        "If want to watch the game visually, you can render it.\n"
      ],
      "id": "d62a1f51"
    },
    {
      "cell_type": "code",
      "metadata": {},
      "source": [
        "env.render(mode=\"ipython\", width=400, height=400)"
      ],
      "id": "c6495563",
      "execution_count": null,
      "outputs": []
    },
    {
      "cell_type": "markdown",
      "metadata": {},
      "source": [
        "## Create an Agent that Could be Submitted¶\n",
        "\n",
        "To submit an agent to the competition, you need to write the Python code for the agent in a file titled main.py and put it along with any supporting files in submission.tar.gz\n",
        "\n",
        "A simple example is below. Of course, in the actual competition, you'll probably want to use a real LLM like in the official starter notebook (https://www.kaggle.com/code/ryanholbrook/llm-20-questions-starter-notebook). Running LLM agents in a notebook will take more time and memory, so if you're testing your LLM agent as player 1, you might want to put a simple agent as player 2.\n",
        "\n",
        "    Create a directory /kaggle/working/submission with a subdirectory lib where you would put any supporting files\n"
      ],
      "id": "25ab8145"
    },
    {
      "cell_type": "code",
      "metadata": {},
      "source": [
        "import os\n",
        "submission_directory = \"/kaggle/working/submission\"\n",
        "submission_subdirectory = \"lib\"\n",
        "# Create the main directory if it doesn't exist\n",
        "if not os.path.exists(submission_directory):\n",
        "    os.mkdir(submission_directory)\n",
        "    subdirectory_path = os.path.join(submission_directory, submission_subdirectory)\n",
        "    os.mkdir(subdirectory_path)"
      ],
      "id": "4a5aaa47",
      "execution_count": null,
      "outputs": []
    },
    {
      "cell_type": "code",
      "metadata": {},
      "source": [
        "# create an example file to save in the lib directory\n",
        "import csv\n",
        "with open(os.path.join(subdirectory_path, \"example.csv\"),mode='w') as file:\n",
        "    writer = csv.writer(file)\n",
        "    writer.writerow([\"cow\", \"horse\"])"
      ],
      "id": "dfa11c7f",
      "execution_count": null,
      "outputs": []
    },
    {
      "cell_type": "markdown",
      "metadata": {},
      "source": [
        "- Write the main.py Python code for your agent\n",
        "- The environment will use the last function in main.py for your agent, in this case agent_fun()\n"
      ],
      "id": "ff0ba1a1"
    },
    {
      "cell_type": "code",
      "metadata": {},
      "source": [
        "%%writefile /kaggle/working/submission/main.py\n",
        "\n",
        "import os\n",
        "import sys\n",
        "import csv\n",
        "import random\n",
        "\n",
        "\n",
        "\n",
        "# If you put other files (e.g. model weights) in your submission/lib directory, you need to set the path\n",
        "KAGGLE_COMPETITION_PATH = \"/kaggle_simulations/agent/\" # competition path\n",
        "if os.path.exists(KAGGLE_COMPETITION_PATH):  # if running in the competition\n",
        "    subdirectory_path = os.path.join(KAGGLE_COMPETITION_PATH, \"lib\")\n",
        "else: # if running in notebook\n",
        "    subdirectory_path = os.path.join(\"/kaggle/working/submission/\", \"lib\")\n",
        "sys.path.insert(0, subdirectory_path)\n",
        "\n",
        "\n",
        "# Loading our example file\n",
        "with open(os.path.join(subdirectory_path,\"example.csv\"), mode='r') as file:\n",
        "    reader = csv.reader(file)\n",
        "    guess_list = list(reader)\n",
        "    guess_list = guess_list[0]\n",
        "\n",
        "# Setting a random \"animal\" from example file as a global variable\n",
        "animal = random.choice(guess_list)\n",
        "    \n",
        "# Last function in the main.py will be the agent function\n",
        "def agent_fn(obs, cfg):\n",
        "    \n",
        "    # if agent is guesser and turnType is \"ask\"\n",
        "    if obs.turnType == \"ask\":\n",
        "        response = f'Does it look like a {animal}?'\n",
        "    # if agent is guesser and turnType is \"guess\"\n",
        "    elif obs.turnType == \"guess\":\n",
        "        if obs.answers[-1]==\"yes\":\n",
        "            response = animal\n",
        "        else:\n",
        "            response = \"penguin\"\n",
        "    # if agent is the answerer\n",
        "    elif obs.turnType == \"answer\":\n",
        "        if obs.keyword in obs.questions[-1]:\n",
        "            response = \"yes\"\n",
        "        else:\n",
        "            response = \"no\"\n",
        "\n",
        "    return response"
      ],
      "id": "a3e0d158",
      "execution_count": null,
      "outputs": []
    },
    {
      "cell_type": "markdown",
      "metadata": {},
      "source": [
        "This main.py file with the agent is ready to submit along with the /lib/example.csv supporting file.\n",
        "\n",
        "\n",
        "```{bash}\n",
        "!apt install pigz pv > /dev/null\n",
        "!tar --use-compress-program='pigz --fast --recursive | pv' -cf submission.tar.gz -C /kaggle/working/submission .\n",
        "```\n",
        "\n",
        "\n",
        "You can run the agent in main.py from this Jupyter notebook as both players on Team 1, and we'll use simple_agent3 and simple_agent4 for Team 2.\n"
      ],
      "id": "4e78d938"
    },
    {
      "cell_type": "code",
      "metadata": {},
      "source": [
        "game_output = env.run(agents=[\"/kaggle/working/submission/main.py\", \"/kaggle/working/submission/main.py\", simple_agent3, simple_agent4])\n",
        "env.render(mode=\"ipython\", width=400, height=400)"
      ],
      "id": "1ad7a280",
      "execution_count": null,
      "outputs": []
    },
    {
      "cell_type": "markdown",
      "metadata": {},
      "source": [
        "## Debugging Tips\n",
        "\n",
        "When you're designing and debugging, you normally want to change some of the optional arguments in creating the environment. These include:\n",
        "\n",
        "env = make(environment, configuration=None, info=None, steps=None, logs=None, debug=False, state=None)\n",
        "\n",
        "You can look at the specifications in env.specification to learn about how configuration and other objects defined in the environment. It has explanations and shows the default values.\n",
        "\n",
        "When working on new agents, I'd suggest changing the configuration to run a shorter episode with only a few steps and setting debug=True so you can see any verbose output printed by your agents.\n",
        "\n",
        "Here is a new environment that is better for debugging.\n"
      ],
      "id": "6fe94aac"
    },
    {
      "cell_type": "code",
      "metadata": {},
      "source": [
        "# For debugging, play game with only two rounds\n",
        "debug_config = {'episodeSteps': 7,     # initial step plus 3 steps per round (ask/answer/guess)\n",
        "                'actTimeout': 5,       # agent time per round in seconds; default is 60\n",
        "                'runTimeout': 60,      # max time for the episode in seconds; default is 1200\n",
        "                'agentTimeout': 3600}  # obsolete field; default is 3600\n",
        "\n",
        "env = make(\"llm_20_questions\", configuration=debug_config, debug=True)"
      ],
      "id": "c68cef7d",
      "execution_count": null,
      "outputs": []
    },
    {
      "cell_type": "markdown",
      "metadata": {},
      "source": [
        "And we can have our agent print some information for debugging. I added print\n",
        "statements to simple agent 1 to show what information is available in `obs`\n"
      ],
      "id": "8ac1bcb4"
    },
    {
      "cell_type": "code",
      "metadata": {},
      "source": [
        "def simple_verbose_agent1(obs, cfg):\n",
        "    \n",
        "    # if agent is guesser and turnType is \"ask\"\n",
        "    if obs.turnType == \"ask\":\n",
        "        response = \"Is it a duck?\"\n",
        "    # if agent is guesser and turnType is \"guess\"\n",
        "    elif obs.turnType == \"guess\":\n",
        "        response = \"duck\"\n",
        "    # if agent is the answerer\n",
        "    elif obs.turnType == \"answer\":\n",
        "        response = \"no\"\n",
        "    \n",
        "    # Print debugging information\n",
        "    print(\"====================\")\n",
        "    print(f\"step = {obs.step}\")\n",
        "    print(f\"turnType = {obs.turnType}\")\n",
        "    print(\"obs =\")\n",
        "    print(obs)\n",
        "    print(\" \")\n",
        "    print(f'response = \"{response}\"')\n",
        "\n",
        "    return response"
      ],
      "id": "fb9548e6",
      "execution_count": null,
      "outputs": []
    },
    {
      "cell_type": "markdown",
      "metadata": {},
      "source": [
        "Putting this simple_verbose_agent1 as both players on Team 1 allows us to observe\n",
        "each of the three turn types (ask/guess/answer).\n"
      ],
      "id": "deed3c4a"
    },
    {
      "cell_type": "code",
      "metadata": {},
      "source": [
        "game_output = env.run(agents=[simple_verbose_agent1,simple_verbose_agent1, simple_agent3, \"/kaggle/working/submission/main.py\"])"
      ],
      "id": "0df5b55f",
      "execution_count": null,
      "outputs": []
    }
  ],
  "metadata": {
    "kernelspec": {
      "name": "python3",
      "language": "python",
      "display_name": "Python 3 (ipykernel)"
    }
  },
  "nbformat": 4,
  "nbformat_minor": 5
}