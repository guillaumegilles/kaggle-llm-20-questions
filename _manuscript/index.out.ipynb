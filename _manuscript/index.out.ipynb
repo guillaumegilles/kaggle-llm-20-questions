{
 "cells": [
  {
   "cell_type": "markdown",
   "metadata": {},
   "source": [
    "# Untitled"
   ],
   "id": "a6a31e66-8ed7-4eb8-a567-075eee77bc07"
  },
  {
   "cell_type": "markdown",
   "metadata": {},
   "source": [
    "## Make and Configure Game Environment\n",
    "\n",
    "Kaggle environments are created with the `make()` function with the environment name (“llm_20_questions”) and some optional defaults, like configuration and info. If you want to run a game just like the competition, you can just use the defaults."
   ],
   "id": "033beb29"
  },
  {
   "cell_type": "code",
   "execution_count": 1,
   "metadata": {},
   "outputs": [],
   "source": [
    "import kaggle_environments\n",
    "\n",
    "env = kaggle_environments.make(\"llm_20_questions\")"
   ],
   "id": "c57c6590"
  },
  {
   "cell_type": "markdown",
   "metadata": {},
   "source": [
    "When you initialize the environment, it sets the keyword to be guessed. You can inspect or change this in kaggle_environments.envs.llm_20_questions.llm_20_questions.keyword"
   ],
   "id": "667479cb"
  },
  {
   "cell_type": "code",
   "execution_count": 2,
   "metadata": {},
   "outputs": [
    {
     "output_type": "stream",
     "name": "stdout",
     "text": [
      "The keyword for this session is: \n",
      "Wine Decanter\n",
      " \n",
      "Some keywords have a list of alternative guesses (alts) that are also accepted.\n",
      "For this session, the list of alts is:\n",
      "['Decanter']"
     ]
    }
   ],
   "source": [
    "print(\"The keyword for this session is: \")\n",
    "print(kaggle_environments.envs.llm_20_questions.llm_20_questions.keyword)\n",
    "print(\" \")\n",
    "print(\"Some keywords have a list of alternative guesses (alts) that are also accepted.\")\n",
    "print(\"For this session, the list of alts is:\")\n",
    "print(kaggle_environments.envs.llm_20_questions.llm_20_questions.alts)"
   ],
   "id": "1343b9bf"
  },
  {
   "cell_type": "markdown",
   "metadata": {},
   "source": [
    "### Create a Simple Agent\n",
    "\n",
    "If you just want to experiment, an agent can be as simple as a Python function. Your agent is a function with two inputs, obs and cfg, and it provides a text response as output.\n",
    "\n",
    "The agent needs to be able to handle three turnTypes (“ask”, “guess” and “answer”). The response for answer has to be “yes” or “no”.\n",
    "\n",
    "Here are four simple agents:"
   ],
   "id": "2fb20a9b"
  },
  {
   "cell_type": "code",
   "execution_count": 3,
   "metadata": {},
   "outputs": [],
   "source": [
    "def simple_agent1(obs, cfg):\n",
    "    # if agent is guesser and turnType is \"ask\"\n",
    "    if obs.turnType == \"ask\": response = \"Is it a duck?\"\n",
    "    elif obs.turnType == \"guess\": response = \"duck\"\n",
    "    elif obs.turnType == \"answer\": response = \"no\"\n",
    "    return response\n",
    "\n",
    "def simple_agent2(obs, cfg):\n",
    "    # if agent is guesser and turnType is \"ask\"\n",
    "    if obs.turnType == \"ask\": response = \"Is it a bird?\"\n",
    "    elif obs.turnType == \"guess\": response = \"bird\"\n",
    "    elif obs.turnType == \"answer\": response = \"no\"\n",
    "    return response\n",
    "\n",
    "def simple_agent3(obs, cfg):\n",
    "    # if agent is guesser and turnType is \"ask\"\n",
    "    if obs.turnType == \"ask\": response = \"Is it a pig?\"\n",
    "    elif obs.turnType == \"guess\": response = \"pig\"\n",
    "    elif obs.turnType == \"answer\": response = \"no\"\n",
    "    return response\n",
    "\n",
    "def simple_agent4(obs, cfg):\n",
    "    # if agent is guesser and turnType is \"ask\"\n",
    "    if obs.turnType == \"ask\": response = \"Is it a cow?\"\n",
    "    elif obs.turnType == \"guess\": response = \"cow\"\n",
    "    elif obs.turnType == \"answer\": response = \"no\"\n",
    "    return response"
   ],
   "id": "675b5459"
  }
 ],
 "nbformat": 4,
 "nbformat_minor": 5,
 "metadata": {}
}
