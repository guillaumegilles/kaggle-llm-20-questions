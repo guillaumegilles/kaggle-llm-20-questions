{
 "cells": [
  {
   "cell_type": "markdown",
   "metadata": {},
   "source": [
    "# \n",
    "\n",
    "# How to contribute\n",
    "\n",
    "We’d love to accept your patches and contributions to this project.\n",
    "\n",
    "## Before you begin\n",
    "\n",
    "### Sign our Contributor License Agreement\n",
    "\n",
    "Contributions to this project must be accompanied by a [Contributor License Agreement](https://cla.developers.google.com/about) (CLA). You (or your employer) retain the copyright to your contribution; this simply gives us permission to use and redistribute your contributions as part of the project.\n",
    "\n",
    "If you or your current employer have already signed the Google CLA (even if it was for a different project), you probably don’t need to do it again.\n",
    "\n",
    "Visit <https://cla.developers.google.com/> to see your current agreements or to sign a new one.\n",
    "\n",
    "### Review our community guidelines\n",
    "\n",
    "This project follows [Google’s Open Source Community Guidelines](https://opensource.google/conduct/).\n",
    "\n",
    "## Contribution process\n",
    "\n",
    "### Code reviews\n",
    "\n",
    "All submissions, including submissions by project members, require review. We use GitHub pull requests for this purpose. Consult [GitHub Help](https://help.github.com/articles/about-pull-requests/) for more information on using pull requests."
   ],
   "id": "af6f6a01-125a-47a8-bdce-e5d88e8f71b1"
  }
 ],
 "nbformat": 4,
 "nbformat_minor": 5,
 "metadata": {}
}
